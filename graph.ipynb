{
 "cells": [
  {
   "cell_type": "code",
   "execution_count": 1,
   "metadata": {},
   "outputs": [
    {
     "name": "stdout",
     "output_type": "stream",
     "text": [
      "\n",
      "   0   0   0   0   1   0   0\n",
      "   0   0   0   0   0   0   0\n",
      "   0   0   1   0   0   0   1\n",
      "   0   0   0   0   0   0   0\n",
      "   1   0   0   0   1   0   0\n",
      "   0   0   0   0   0   0   0\n",
      "   0   0   1   0   0   0   0"
     ]
    }
   ],
   "source": [
    "# Graph:\n",
    "class Graph():\n",
    "    def __init__(self, size):\n",
    "        self.adj = []\n",
    "        for i in range(1, size+1):\n",
    "            self.adj.append([0 for i in range(size)])\n",
    "        self.size = size\n",
    "        \n",
    "    def add_edge(self, orig, dest):\n",
    "        if orig > self.size or dest > self.size or orig < 0 or dest < 0:\n",
    "            print(\"Trying to add an invalid Edge! (%d, %d)\" % (orig, dest))\n",
    "        else:\n",
    "            self.adj[orig-1][dest-1] = 1\n",
    "            self.adj[dest-1][orig-1] = 1\n",
    "            \n",
    "    def remove_edge(self, orig, dest):\n",
    "        if orig > self.size or dest > self.size or orig < 0 or dest < 0:\n",
    "            print(\"Trying to add an invalid Edge! (%d, %d)\" % (orig, dest))\n",
    "        else:\n",
    "            self.adj[orig-1][dest-1] = 0\n",
    "            self.adj[dest-1][orig-1] = 0\n",
    "            \n",
    "    def display(self):\n",
    "        for row in self.adj:\n",
    "            print()\n",
    "            for val in row:\n",
    "                print('{:4}'.format(val), end=\"\")\n",
    "                \n",
    "# a simple graph\n",
    "G = Graph(7)\n",
    "G.add_edge(5, 5)\n",
    "G.add_edge(1, 5)\n",
    "G.add_edge(5, 1)\n",
    "G.add_edge(3, 3)\n",
    "G.add_edge(7, 3)\n",
    "\n",
    "G.display()"
   ]
  },
  {
   "cell_type": "code",
   "execution_count": null,
   "metadata": {},
   "outputs": [],
   "source": []
  }
 ],
 "metadata": {
  "kernelspec": {
   "display_name": "Python 3",
   "language": "python",
   "name": "python3"
  },
  "language_info": {
   "codemirror_mode": {
    "name": "ipython",
    "version": 3
   },
   "file_extension": ".py",
   "mimetype": "text/x-python",
   "name": "python",
   "nbconvert_exporter": "python",
   "pygments_lexer": "ipython3",
   "version": "3.6.8"
  }
 },
 "nbformat": 4,
 "nbformat_minor": 2
}
