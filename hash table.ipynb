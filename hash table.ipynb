{
 "cells": [
  {
   "cell_type": "code",
   "execution_count": 2,
   "metadata": {},
   "outputs": [
    {
     "name": "stdout",
     "output_type": "stream",
     "text": [
      "0x22b837fff48\n"
     ]
    }
   ],
   "source": [
    "# Hash Table:\n",
    "class hash_table:\n",
    "    def __init__(self):\n",
    "        self.table = [None] * 127\n",
    "        \n",
    "    # Hash function\n",
    "    def Hash_func(self, value):\n",
    "        key = 0\n",
    "        for i in range(0, len(value)):\n",
    "            key += ord(value[i])\n",
    "        return key % 127\n",
    "    \n",
    "    def Insert(self, value):\n",
    "        hash = self.Hash_func(value)\n",
    "        if self.table[hash] is None:\n",
    "            self.table[hash] = value\n",
    "            \n",
    "    def Search(self, value):\n",
    "        hash = self.Hash_func(value);\n",
    "        if self.table[hash] is None:\n",
    "            return None\n",
    "        else:\n",
    "            return hex(id(self.table[hash]))\n",
    "        \n",
    "    def Remove(self, value):\n",
    "        hash = self.Hash_func(value);\n",
    "        if self.table[hash] is None:\n",
    "            print(\"No Element found with value\", value)\n",
    "        else:\n",
    "            print(\"Element with value\", value, \"deleted\")\n",
    "            self.table[hash] is None;\n",
    "            \n",
    "H = hash_table()\n",
    "H.Insert(\"A\")\n",
    "H.Insert(\"B\")\n",
    "H.Insert(\"C\")\n",
    "\n",
    "print(H.Search(\"B\"))"
   ]
  },
  {
   "cell_type": "code",
   "execution_count": null,
   "metadata": {},
   "outputs": [],
   "source": []
  }
 ],
 "metadata": {
  "kernelspec": {
   "display_name": "Python 3",
   "language": "python",
   "name": "python3"
  },
  "language_info": {
   "codemirror_mode": {
    "name": "ipython",
    "version": 3
   },
   "file_extension": ".py",
   "mimetype": "text/x-python",
   "name": "python",
   "nbconvert_exporter": "python",
   "pygments_lexer": "ipython3",
   "version": "3.6.8"
  }
 },
 "nbformat": 4,
 "nbformat_minor": 2
}
