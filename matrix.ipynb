{
 "cells": [
  {
   "cell_type": "code",
   "execution_count": 1,
   "metadata": {},
   "outputs": [
    {
     "name": "stdout",
     "output_type": "stream",
     "text": [
      "[17, 15, 4]\n",
      "[10, 12, 9]\n",
      "[11, 13, 18]\n"
     ]
    }
   ],
   "source": [
    "# Matrix Addition:\n",
    "A = [[12, 7, 3],\n",
    "    [4, 5, 6],\n",
    "    [7, 8, 9]]\n",
    "\n",
    "B = [[5, 8, 1],\n",
    "    [6, 7, 3],\n",
    "    [4, 5, 9]]\n",
    "\n",
    "result = [[0, 0, 0],\n",
    "         [0, 0, 0],\n",
    "         [0, 0, 0]]\n",
    "\n",
    "for k in range(len(A)):\n",
    "    for j in range(len(A[0])):\n",
    "        result[k][j] = A[k][j] + B[k][j]\n",
    "        \n",
    "for r in result:\n",
    "    print(r)"
   ]
  },
  {
   "cell_type": "code",
   "execution_count": 3,
   "metadata": {},
   "outputs": [
    {
     "name": "stdout",
     "output_type": "stream",
     "text": [
      "[114, 160, 60, 27]\n",
      "[74, 97, 73, 14]\n",
      "[119, 157, 112, 23]\n"
     ]
    }
   ],
   "source": [
    "# Matrix Multiplication:\n",
    "A = [[12, 7, 3],\n",
    "    [4, 5, 6],\n",
    "    [7, 8, 9]]\n",
    "\n",
    "B = [[5, 8, 1, 2],\n",
    "    [6, 7, 3, 0],\n",
    "    [4, 5, 9, 1]]\n",
    "\n",
    "# result is 3*4\n",
    "res = [[0, 0, 0, 0],\n",
    "         [0, 0, 0, 0],\n",
    "         [0, 0, 0, 0]]\n",
    "\n",
    "for l in range(len(A)):\n",
    "    for j in range(len(B[0])):\n",
    "        for k in range(len(B)):\n",
    "            res[l][j] += A[l][k] * B[k][j]\n",
    "        \n",
    "for r in res:\n",
    "    print(r)"
   ]
  },
  {
   "cell_type": "code",
   "execution_count": 4,
   "metadata": {},
   "outputs": [
    {
     "name": "stdout",
     "output_type": "stream",
     "text": [
      "[12, 4, 3]\n",
      "[7, 5, 8]\n"
     ]
    }
   ],
   "source": [
    "# Matrix Transposition:\n",
    "A = [[12, 7],\n",
    "    [4, 5],\n",
    "    [3, 8]]\n",
    "\n",
    "T = [[0, 0, 0],\n",
    "    [0, 0, 0]]\n",
    "\n",
    "for k in range(len(A)):\n",
    "    for j in range(len(A[0])):\n",
    "        T[j][k] = A[k][j]\n",
    "        \n",
    "for r in T:\n",
    "    print(r)"
   ]
  },
  {
   "cell_type": "code",
   "execution_count": null,
   "metadata": {},
   "outputs": [],
   "source": []
  }
 ],
 "metadata": {
  "kernelspec": {
   "display_name": "Python 3",
   "language": "python",
   "name": "python3"
  },
  "language_info": {
   "codemirror_mode": {
    "name": "ipython",
    "version": 3
   },
   "file_extension": ".py",
   "mimetype": "text/x-python",
   "name": "python",
   "nbconvert_exporter": "python",
   "pygments_lexer": "ipython3",
   "version": "3.6.8"
  }
 },
 "nbformat": 4,
 "nbformat_minor": 2
}
