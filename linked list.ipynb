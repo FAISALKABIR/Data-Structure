{
 "cells": [
  {
   "cell_type": "code",
   "execution_count": 1,
   "metadata": {},
   "outputs": [
    {
     "name": "stdout",
     "output_type": "stream",
     "text": [
      "9 => 5 => 8 => "
     ]
    }
   ],
   "source": [
    "# Linked list:\n",
    "class node:\n",
    "    def __init__(self, data = None, next = None):\n",
    "        self.data = data\n",
    "        self.next = next\n",
    "        \n",
    "class linked_list:\n",
    "    def __init__(self):\n",
    "        self.head = None\n",
    "        \n",
    "    # function to add a node at front\n",
    "    def add_at_front(self, data):\n",
    "        self.head = node(data=data, next=self.head)\n",
    "        \n",
    "    # function to check whether the list is empty\n",
    "    def is_empty(self):\n",
    "        return self.head == None\n",
    "    \n",
    "    # function to add node at the end\n",
    "    def add_at_end(self, data):\n",
    "        if not self.head:\n",
    "            self.head = node(data=data)\n",
    "            return\n",
    "        curr = self.head\n",
    "        while curr.next:\n",
    "            curr = curr.next\n",
    "        curr.next = node(data=data)\n",
    "        \n",
    "    # function to delete any node\n",
    "    def delete_node(self, key):\n",
    "        curr = self.head\n",
    "        prev = None\n",
    "        while curr and curr.data != key:\n",
    "            prev = curr\n",
    "            curr = curr.next\n",
    "        if prev is None:\n",
    "            self.head = curr.next\n",
    "        elif curr:\n",
    "            prev.next = curr.next\n",
    "            curr.next = None\n",
    "            \n",
    "    # function to get the last node\n",
    "    def get_last_node(self):\n",
    "        temp = self.head\n",
    "        while(temp.next is not None):\n",
    "            temp = temp.next\n",
    "        return temp.data\n",
    "    \n",
    "    # function to print the list nodes\n",
    "    def print_list(self):\n",
    "        node = self.head\n",
    "        while node != None:\n",
    "            print(node.data, end =\" => \")\n",
    "            node = node.next\n",
    "            \n",
    "s = linked_list()\n",
    "s.add_at_front(5)\n",
    "s.add_at_end(8)\n",
    "s.add_at_front(9)\n",
    "\n",
    "s.print_list()"
   ]
  },
  {
   "cell_type": "code",
   "execution_count": null,
   "metadata": {},
   "outputs": [],
   "source": []
  }
 ],
 "metadata": {
  "kernelspec": {
   "display_name": "Python 3",
   "language": "python",
   "name": "python3"
  },
  "language_info": {
   "codemirror_mode": {
    "name": "ipython",
    "version": 3
   },
   "file_extension": ".py",
   "mimetype": "text/x-python",
   "name": "python",
   "nbconvert_exporter": "python",
   "pygments_lexer": "ipython3",
   "version": "3.6.8"
  }
 },
 "nbformat": 4,
 "nbformat_minor": 2
}
