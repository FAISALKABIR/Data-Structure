{
 "cells": [
  {
   "cell_type": "code",
   "execution_count": 2,
   "metadata": {},
   "outputs": [
    {
     "name": "stdout",
     "output_type": "stream",
     "text": [
      "      /  7\n",
      "   /  3\n",
      "      \\  6\n",
      "1\n",
      "      /  5\n",
      "   \\  2\n",
      "      \\  4\n"
     ]
    }
   ],
   "source": [
    "# Binary Tree:\n",
    "class Node:\n",
    "    def __init__(self, data):\n",
    "        self.data = data\n",
    "        self.left = None\n",
    "        self.right = None\n",
    "        \n",
    "def print_tree(root, space=0, t=0):\n",
    "    COUNT = 3\n",
    "    \n",
    "    if root is None:\n",
    "        return\n",
    "    \n",
    "    space += COUNT\n",
    "    \n",
    "    print_tree(root.right, space, 1)\n",
    "    \n",
    "    for x in range(COUNT, space):\n",
    "        print(\" \", end = \"\")\n",
    "        \n",
    "    # right node    \n",
    "    if t == 1:\n",
    "        print(\"/ \", root.data)\n",
    "    # left node\n",
    "    elif t == 2:\n",
    "        print(\"\\ \", root.data)\n",
    "    # root node\n",
    "    else:\n",
    "        print(root.data)\n",
    "        \n",
    "    # process left child\n",
    "    print_tree(root.left, space, 2)\n",
    "    \n",
    "root = Node(1)\n",
    "root.left = Node(2)\n",
    "root.right = Node(3)\n",
    "root.left.left = Node(4)\n",
    "root.left.right = Node(5)\n",
    "root.right.left = Node(6)\n",
    "root.right.right = Node(7)\n",
    "\n",
    "print_tree(root)"
   ]
  },
  {
   "cell_type": "code",
   "execution_count": null,
   "metadata": {},
   "outputs": [],
   "source": []
  }
 ],
 "metadata": {
  "kernelspec": {
   "display_name": "Python 3",
   "language": "python",
   "name": "python3"
  },
  "language_info": {
   "codemirror_mode": {
    "name": "ipython",
    "version": 3
   },
   "file_extension": ".py",
   "mimetype": "text/x-python",
   "name": "python",
   "nbconvert_exporter": "python",
   "pygments_lexer": "ipython3",
   "version": "3.6.8"
  }
 },
 "nbformat": 4,
 "nbformat_minor": 2
}
